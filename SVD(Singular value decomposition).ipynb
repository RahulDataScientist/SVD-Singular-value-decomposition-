{
 "cells": [
  {
   "cell_type": "code",
   "execution_count": 1,
   "metadata": {},
   "outputs": [],
   "source": [
    "#Name:-Rahul Nyati\n",
    "#Topic - SVD\n",
    "#if you like my code and my paper notes then please like my github page Thanks!\n",
    "#perform SVD(Singular value Decomposiotion) by using Numpy in python programming\n"
   ]
  },
  {
   "cell_type": "code",
   "execution_count": null,
   "metadata": {},
   "outputs": [],
   "source": [
    "# First we import necessary libaries which we used to solve the problem of singular value decomposition\n",
    "#Example 1\n",
    "import numpy as np"
   ]
  },
  {
   "cell_type": "code",
   "execution_count": 2,
   "metadata": {},
   "outputs": [],
   "source": [
    "#Creating a matrix A\n",
    "A = np.array([[2,4,3],[6,2,3],[4,7,1]])"
   ]
  },
  {
   "cell_type": "code",
   "execution_count": 3,
   "metadata": {},
   "outputs": [
    {
     "name": "stdout",
     "output_type": "stream",
     "text": [
      "[[2 4 3]\n",
      " [6 2 3]\n",
      " [4 7 1]]\n"
     ]
    }
   ],
   "source": [
    "print(A)"
   ]
  },
  {
   "cell_type": "code",
   "execution_count": 4,
   "metadata": {},
   "outputs": [],
   "source": [
    "#Performing SVD\n",
    "U, D, VT = np.linalg.svd(A)"
   ]
  },
  {
   "cell_type": "code",
   "execution_count": 5,
   "metadata": {},
   "outputs": [
    {
     "name": "stdout",
     "output_type": "stream",
     "text": [
      "[[-0.45464173  0.13839803 -0.87985617]\n",
      " [-0.55531237 -0.81639288  0.15852706]\n",
      " [-0.69636848  0.56066803  0.44802041]]\n"
     ]
    }
   ],
   "source": [
    "print(\"orthogonal left singular matrix\")\n",
    "print(U)"
   ]
  },
  {
   "cell_type": "code",
   "execution_count": 6,
   "metadata": {},
   "outputs": [
    {
     "name": "stdout",
     "output_type": "stream",
     "text": [
      "[11.14258456  3.99080771  1.97895506]\n"
     ]
    }
   ],
   "source": [
    "print(\"diagonal matrix, which describes the strength of each latent factor \")\n",
    "print(D)"
   ]
  },
  {
   "cell_type": "code",
   "execution_count": 8,
   "metadata": {},
   "outputs": [
    {
     "name": "stdout",
     "output_type": "stream",
     "text": [
      "[[-0.63061057 -0.70035556 -0.33441351]\n",
      " [-0.59609214  0.7130092  -0.36917753]\n",
      " [ 0.49699544 -0.03346599 -0.86710758]]\n"
     ]
    }
   ],
   "source": [
    "print(\"orthogonal right singular matrix ka Transpose\")\n",
    "print(VT)"
   ]
  },
  {
   "cell_type": "code",
   "execution_count": 17,
   "metadata": {},
   "outputs": [
    {
     "name": "stdout",
     "output_type": "stream",
     "text": [
      "[[2. 4. 3.]\n",
      " [6. 2. 3.]\n",
      " [4. 7. 1.]]\n"
     ]
    }
   ],
   "source": [
    "#Checking if we can remake the original matrix using U,D,VT -\n",
    "#For matrix multiplication we use @ instead of this -> * \n",
    "A_remake = (U @ np.diag(D) @ VT)\n",
    "print(A_remake)"
   ]
  },
  {
   "cell_type": "code",
   "execution_count": 44,
   "metadata": {},
   "outputs": [],
   "source": [
    "#perform SVD(Singular value Decomposiotion) by using sklearn in python programming\n",
    "#Importing required modules\n",
    "import numpy as np\n",
    "from sklearn.utils.extmath import randomized_svd\n",
    " \n",
    "#Creating array\n",
    "A = np.array([[2,4,3],[6,2,3],[4,7,1]])"
   ]
  },
  {
   "cell_type": "code",
   "execution_count": 45,
   "metadata": {},
   "outputs": [],
   "source": [
    "#Fitting the SVD class\n",
    "u, s, vt = randomized_svd(A, n_components = 2)"
   ]
  },
  {
   "cell_type": "code",
   "execution_count": 46,
   "metadata": {},
   "outputs": [
    {
     "name": "stdout",
     "output_type": "stream",
     "text": [
      "[[ 0.45464173 -0.13839803]\n",
      " [ 0.55531237  0.81639288]\n",
      " [ 0.69636848 -0.56066803]]\n"
     ]
    }
   ],
   "source": [
    "#Printing the transformed matrix\n",
    "print(\"orthogonal left singular matrix\")\n",
    "print(u)"
   ]
  },
  {
   "cell_type": "code",
   "execution_count": 47,
   "metadata": {},
   "outputs": [
    {
     "name": "stdout",
     "output_type": "stream",
     "text": [
      "[11.14258456  3.99080771]\n"
     ]
    }
   ],
   "source": [
    "print(\"diagonal matrix, which describes the strength of each latent factor \")\n",
    "print(s)"
   ]
  },
  {
   "cell_type": "code",
   "execution_count": 48,
   "metadata": {},
   "outputs": [
    {
     "name": "stdout",
     "output_type": "stream",
     "text": [
      "[[ 0.63061057  0.70035556  0.33441351]\n",
      " [ 0.59609214 -0.7130092   0.36917753]]\n"
     ]
    }
   ],
   "source": [
    "print(\"orthogonal right singular matrix ka Transpose\")\n",
    "print(vt)"
   ]
  },
  {
   "cell_type": "code",
   "execution_count": 49,
   "metadata": {},
   "outputs": [
    {
     "name": "stdout",
     "output_type": "stream",
     "text": [
      "[[2.86536638 3.94172916 1.4901959 ]\n",
      " [5.84408363 2.01049888 3.27202719]\n",
      " [3.55935775 7.02967136 1.76878821]]\n"
     ]
    }
   ],
   "source": [
    "#to Recheack\n",
    "#Checking if we can remake the original matrix using U,D,VT -\n",
    "#For matrix multiplication we use @ instead of this -> * \n",
    "A_remake1 = (u @ np.diag(s) @ vt)\n",
    "print(A_remake1)"
   ]
  },
  {
   "cell_type": "code",
   "execution_count": 34,
   "metadata": {},
   "outputs": [],
   "source": [
    "#Our Paper Example\n",
    "#example no 2\n",
    "# By USing Numpy\n",
    "import numpy as np\n",
    "A = np.array([[2,2],[1,1]])"
   ]
  },
  {
   "cell_type": "code",
   "execution_count": 35,
   "metadata": {},
   "outputs": [
    {
     "name": "stdout",
     "output_type": "stream",
     "text": [
      "[[2 2]\n",
      " [1 1]]\n"
     ]
    }
   ],
   "source": [
    "print(A)"
   ]
  },
  {
   "cell_type": "code",
   "execution_count": 36,
   "metadata": {},
   "outputs": [],
   "source": [
    "#Performing SVD\n",
    "U, D, VT = np.linalg.svd(A)"
   ]
  },
  {
   "cell_type": "code",
   "execution_count": 29,
   "metadata": {},
   "outputs": [
    {
     "name": "stdout",
     "output_type": "stream",
     "text": [
      "[[-0.89442719 -0.4472136 ]\n",
      " [-0.4472136   0.89442719]]\n"
     ]
    }
   ],
   "source": [
    "print(\"orthogonal left singular matrix\")\n",
    "print(U)#1/root(5) tends to 0.4472136 and 2/root(5)tends to 0.89442719"
   ]
  },
  {
   "cell_type": "code",
   "execution_count": 30,
   "metadata": {},
   "outputs": [
    {
     "name": "stdout",
     "output_type": "stream",
     "text": [
      "[3.16227766e+00 1.10062118e-17]\n"
     ]
    }
   ],
   "source": [
    "print(\"diagonal matrix, which describes the strength of each latent factor \")\n",
    "print(D)#root 10 which is equvalent to 3.16227766e+00 and 1.10062118e-17-> 0"
   ]
  },
  {
   "cell_type": "code",
   "execution_count": 32,
   "metadata": {},
   "outputs": [
    {
     "name": "stdout",
     "output_type": "stream",
     "text": [
      "[[-0.70710678 -0.70710678]\n",
      " [ 0.70710678 -0.70710678]]\n"
     ]
    }
   ],
   "source": [
    "print(\"orthogonal right singular matrix ka Transpose\")\n",
    "print(VT)#in our example the value are in the form 1/root(2) which is equivalent to =0.70710678 and the sign no matter beacuse the sing of negative multiply by negative is positive"
   ]
  },
  {
   "cell_type": "code",
   "execution_count": 37,
   "metadata": {},
   "outputs": [
    {
     "name": "stdout",
     "output_type": "stream",
     "text": [
      "[[2. 2.]\n",
      " [1. 1.]]\n"
     ]
    }
   ],
   "source": [
    "#Checking if we can remake the original matrix using U,D,VT -\n",
    "#For matrix multiplication we use @ instead of this -> * \n",
    "A_remake = (U @ np.diag(D) @ VT)\n",
    "print(A_remake)"
   ]
  },
  {
   "cell_type": "code",
   "execution_count": 51,
   "metadata": {},
   "outputs": [],
   "source": [
    "#Now we solve by using sklearn\n",
    "#perform SVD(Singular value Decomposiotion) by using sklearn in python programming\n",
    "#Importing required modules\n",
    "import numpy as np\n",
    "from sklearn.utils.extmath import randomized_svd\n",
    " \n",
    "#Creating array\n",
    "A = np.array([[2,2],[1,1]])"
   ]
  },
  {
   "cell_type": "code",
   "execution_count": 52,
   "metadata": {},
   "outputs": [
    {
     "name": "stdout",
     "output_type": "stream",
     "text": [
      "[[2 2]\n",
      " [1 1]]\n"
     ]
    }
   ],
   "source": [
    "print(A)"
   ]
  },
  {
   "cell_type": "code",
   "execution_count": 53,
   "metadata": {},
   "outputs": [],
   "source": [
    "#Fitting the SVD class\n",
    "u, s, vt = randomized_svd(A, n_components = 2)"
   ]
  },
  {
   "cell_type": "code",
   "execution_count": 54,
   "metadata": {},
   "outputs": [
    {
     "name": "stdout",
     "output_type": "stream",
     "text": [
      "[[ 0.89442719 -0.4472136 ]\n",
      " [ 0.4472136   0.89442719]]\n"
     ]
    }
   ],
   "source": [
    "print(\"orthogonal left singular matrix\")\n",
    "print(u)"
   ]
  },
  {
   "cell_type": "code",
   "execution_count": 55,
   "metadata": {},
   "outputs": [
    {
     "name": "stdout",
     "output_type": "stream",
     "text": [
      "[3.16227766 0.        ]\n"
     ]
    }
   ],
   "source": [
    "print(\"diagonal matrix, which describes the strength of each latent factor \")\n",
    "print(s)"
   ]
  },
  {
   "cell_type": "code",
   "execution_count": 56,
   "metadata": {},
   "outputs": [
    {
     "name": "stdout",
     "output_type": "stream",
     "text": [
      "[[ 0.70710678  0.70710678]\n",
      " [-0.70710678  0.70710678]]\n"
     ]
    }
   ],
   "source": [
    "print(\"orthogonal right singular matrix ka Transpose\")\n",
    "print(vt)"
   ]
  },
  {
   "cell_type": "code",
   "execution_count": 57,
   "metadata": {},
   "outputs": [
    {
     "name": "stdout",
     "output_type": "stream",
     "text": [
      "[[2. 2.]\n",
      " [1. 1.]]\n"
     ]
    }
   ],
   "source": [
    "A_remake = (u @ np.diag(s) @ vt)\n",
    "print(A_remake)"
   ]
  },
  {
   "cell_type": "code",
   "execution_count": null,
   "metadata": {},
   "outputs": [],
   "source": []
  },
  {
   "cell_type": "code",
   "execution_count": null,
   "metadata": {},
   "outputs": [],
   "source": []
  }
 ],
 "metadata": {
  "kernelspec": {
   "display_name": "Python 3",
   "language": "python",
   "name": "python3"
  },
  "language_info": {
   "codemirror_mode": {
    "name": "ipython",
    "version": 3
   },
   "file_extension": ".py",
   "mimetype": "text/x-python",
   "name": "python",
   "nbconvert_exporter": "python",
   "pygments_lexer": "ipython3",
   "version": "3.7.3"
  }
 },
 "nbformat": 4,
 "nbformat_minor": 2
}
